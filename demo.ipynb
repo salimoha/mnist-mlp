{
 "cells": [
  {
   "cell_type": "code",
   "execution_count": 1,
   "metadata": {
    "collapsed": true
   },
   "outputs": [],
   "source": [
    "# # Overviewblack_box_mlp.train_and_eval` is a function that takes a  set of parameters and returns the accuracy of the model. We would like to MAXIMIZE the value returned. The parameters that it takes are:\n",
    "\n",
    "#     num_neurons: int\n",
    "#         Number of hidden neurons to use. Defaults to 1000.\n",
    "\n",
    "#     gain: float\n",
    "#         Variance of the initialization weight for the hidden layer weights. Defaults to 0.01\n",
    "\n",
    "#     np_random_seed: int\n",
    "#         Seed for numpy random generator used for \n",
    "        \n",
    "#     **kwargs:\n",
    "#         Additional arguments to send to SGDClassifier\n",
    " \n",
    "# For the additional SGDClassifier  parameters, see:  http://scikit-learn.org/stable/modules/generated/sklearn.linear_model.SGDClassifier.html#sklearn.linear_model.SGDClassifier"
   ]
  },
  {
   "cell_type": "markdown",
   "metadata": {},
   "source": [
    "## Basic example"
   ]
  },
  {
   "cell_type": "code",
   "execution_count": 1,
   "metadata": {},
   "outputs": [
    {
     "ename": "ImportError",
     "evalue": "No module named 'black_box_mlp'",
     "output_type": "error",
     "traceback": [
      "\u001b[0;31m---------------------------------------------------------------------------\u001b[0m",
      "\u001b[0;31mImportError\u001b[0m                               Traceback (most recent call last)",
      "\u001b[0;32m<ipython-input-1-d3d5ae21a73e>\u001b[0m in \u001b[0;36m<module>\u001b[0;34m()\u001b[0m\n\u001b[0;32m----> 1\u001b[0;31m \u001b[0;32mimport\u001b[0m \u001b[0mblack_box_mlp\u001b[0m\u001b[0;34m\u001b[0m\u001b[0m\n\u001b[0m",
      "\u001b[0;31mImportError\u001b[0m: No module named 'black_box_mlp'"
     ]
    }
   ],
   "source": [
    "import black_box_mlp"
   ]
  },
  {
   "cell_type": "code",
   "execution_count": 3,
   "metadata": {},
   "outputs": [
    {
     "name": "stderr",
     "output_type": "stream",
     "text": [
      "/home/carnd/anaconda3/lib/python3.5/site-packages/sklearn/linear_model/stochastic_gradient.py:84: FutureWarning: max_iter and tol parameters have been added in <class 'sklearn.linear_model.stochastic_gradient.SGDClassifier'> in 0.19. If both are left unset, they default to max_iter=5 and tol=None. If tol is not None, max_iter defaults to max_iter=1000. From 0.21, default max_iter will be 1000, and default tol will be 1e-3.\n",
      "  \"and default tol will be 1e-3.\" % type(self), FutureWarning)\n"
     ]
    },
    {
     "name": "stdout",
     "output_type": "stream",
     "text": [
      "CPU times: user 24.7 s, sys: 712 ms, total: 25.4 s\n",
      "Wall time: 15.1 s\n"
     ]
    }
   ],
   "source": [
    "%%time\n",
    "accuracy = black_box_mlp.train_and_eval(np_random_seed=111, alpha = .1, random_state=2)\n",
    "\n",
    "accuracy = black_box_mlp.train_and_eval(np_random_seed=111,alpha = .8,random_state= 2)"
   ]
  },
  {
   "cell_type": "code",
   "execution_count": 4,
   "metadata": {},
   "outputs": [
    {
     "name": "stdout",
     "output_type": "stream",
     "text": [
      "The accuracy is:0.891904761905\n"
     ]
    }
   ],
   "source": [
    "print(\"The accuracy is:\" + str(accuracy))"
   ]
  },
  {
   "cell_type": "markdown",
   "metadata": {},
   "source": [
    "Note: you may also want to  take the time evaluated as an  additional value to minimize "
   ]
  },
  {
   "cell_type": "markdown",
   "metadata": {},
   "source": [
    "## Another example"
   ]
  },
  {
   "cell_type": "code",
   "execution_count": 5,
   "metadata": {},
   "outputs": [
    {
     "name": "stderr",
     "output_type": "stream",
     "text": [
      "/home/carnd/anaconda3/lib/python3.5/site-packages/sklearn/linear_model/stochastic_gradient.py:73: DeprecationWarning: n_iter parameter is deprecated in 0.19 and will be removed in 0.21. Use max_iter and tol instead.\n",
      "  DeprecationWarning)\n"
     ]
    },
    {
     "name": "stdout",
     "output_type": "stream",
     "text": [
      "CPU times: user 1min 10s, sys: 1.32 s, total: 1min 11s\n",
      "Wall time: 47.3 s\n"
     ]
    }
   ],
   "source": [
    "%%time\n",
    "accuracy = black_box_mlp.train_and_eval(num_neurons = 5e3, gain = 1e-4, alpha = 1e-3, n_iter = 10, \n",
    "                                        random_state=2, np_random_seed=111)"
   ]
  },
  {
   "cell_type": "markdown",
   "metadata": {},
   "source": [
    "I think these 4 params should be  searched for:\n",
    "   \n",
    "   `num_neurons, gain, alpha, n_iter`\n",
    "   "
   ]
  },
  {
   "cell_type": "code",
   "execution_count": 6,
   "metadata": {},
   "outputs": [
    {
     "name": "stderr",
     "output_type": "stream",
     "text": [
      "/home/carnd/anaconda3/lib/python3.5/site-packages/sklearn/linear_model/stochastic_gradient.py:84: FutureWarning: max_iter and tol parameters have been added in <class 'sklearn.linear_model.stochastic_gradient.SGDClassifier'> in 0.19. If both are left unset, they default to max_iter=5 and tol=None. If tol is not None, max_iter defaults to max_iter=1000. From 0.21, default max_iter will be 1000, and default tol will be 1e-3.\n",
      "  \"and default tol will be 1e-3.\" % type(self), FutureWarning)\n"
     ]
    },
    {
     "name": "stdout",
     "output_type": "stream",
     "text": [
      "0.89012987013\n"
     ]
    }
   ],
   "source": [
    "# ccuracy = black_box_mlp.train_and_eval(111, 0.1,2)\n",
    "accuracy = black_box_mlp.train_and_eval(np_random_seed=111, alpha = .8, random_state=4)\n",
    "print(accuracy)"
   ]
  },
  {
   "cell_type": "code",
   "execution_count": 7,
   "metadata": {
    "scrolled": false
   },
   "outputs": [
    {
     "name": "stderr",
     "output_type": "stream",
     "text": [
      "/home/carnd/anaconda3/lib/python3.5/site-packages/sklearn/linear_model/stochastic_gradient.py:84: FutureWarning: max_iter and tol parameters have been added in <class 'sklearn.linear_model.stochastic_gradient.SGDClassifier'> in 0.19. If both are left unset, they default to max_iter=5 and tol=None. If tol is not None, max_iter defaults to max_iter=1000. From 0.21, default max_iter will be 1000, and default tol will be 1e-3.\n",
      "  \"and default tol will be 1e-3.\" % type(self), FutureWarning)\n"
     ]
    },
    {
     "name": "stdout",
     "output_type": "stream",
     "text": [
      "Total iter =  1 iteration k =  0  kk =  0\n",
      "xc =  [ 1.  0.  1.]\n",
      "yc =  -inf\n",
      "Total iter =  2 iteration k =  1  kk =  0\n",
      "xc =  [ 1.  0.  0.]\n",
      "yc =  -inf\n",
      "Total iter =  3 iteration k =  2  kk =  0\n",
      "xc =  [ 0.  0.  0.]\n",
      "yc =  -inf\n",
      "Total iter =  4 iteration k =  3  kk =  0\n",
      "xc =  [ 0.  0.  1.]\n",
      "yc =  -inf\n",
      "Total iter =  5 iteration k =  4  kk =  0\n",
      "xc =  [ 0.5   0.    0.25]\n",
      "yc =  -inf\n",
      "Total iter =  6 iteration k =  5  kk =  0\n",
      "xc =  [ 0.125  0.     0.375]\n",
      "yc =  -inf\n",
      "Total iter =  7 iteration k =  6  kk =  0\n",
      "xc =  [ 0.5   0.    0.75]\n",
      "yc =  -inf\n",
      "Total iter =  8 iteration k =  7  kk =  0\n",
      "xc =  [ 0.375  0.375  0.   ]\n",
      "yc =  -inf\n",
      "Total iter =  9 iteration k =  8  kk =  0\n",
      "xc =  [ 0.  1.  1.]\n",
      "yc =  -inf\n",
      "Total iter =  10 iteration k =  9  kk =  0\n",
      "xc =  [ 0.  1.  0.]\n",
      "yc =  -inf\n",
      "Total iter =  11 iteration k =  10  kk =  0\n",
      "xc =  [ 1.  1.  0.]\n",
      "yc =  -inf\n",
      "Total iter =  12 iteration k =  11  kk =  0\n",
      "xc =  [ 1.  1.  1.]\n",
      "yc =  -inf\n",
      "Total iter =  13 iteration k =  12  kk =  0\n",
      "xc =  [ 0.    0.25  0.5 ]\n",
      "yc =  -inf\n",
      "Total iter =  14 iteration k =  13  kk =  0\n",
      "xc =  [ 1.     0.375  0.625]\n",
      "yc =  -inf\n",
      "Total iter =  15 iteration k =  14  kk =  0\n",
      "xc =  [ 0.625  0.375  1.   ]\n",
      "yc =  -inf\n",
      "Total iter =  16 iteration k =  15  kk =  0\n",
      "xc =  [ 0.375  1.     0.375]\n",
      "yc =  -inf\n",
      "Total iter =  17 iteration k =  16  kk =  0\n",
      "xc =  [[ 0.75 ]\n",
      " [ 0.   ]\n",
      " [ 0.375]]\n",
      "yc =  -0.236434150934\n",
      "Total iter =  18 iteration k =  17  kk =  0\n",
      "xc =  [ 0.375  0.     0.   ]\n",
      "yc =  -0.290899171734\n",
      "Total iter =  19 iteration k =  18  kk =  0\n",
      "xc =  [[ 0.125]\n",
      " [ 0.375]\n",
      " [ 0.75 ]]\n",
      "yc =  -0.175798020746\n",
      "Total iter =  20 iteration k =  19  kk =  0\n",
      "xc =  [[ 0.   ]\n",
      " [ 0.625]\n",
      " [ 0.5  ]]\n",
      "yc =  -0.18671044553\n",
      "Total iter =  21 iteration k =  20  kk =  0\n",
      "xc =  [[ 0.75 ]\n",
      " [ 0.375]\n",
      " [ 0.125]]\n",
      "yc =  -0.176468804371\n",
      "Total iter =  22 iteration k =  21  kk =  0\n",
      "xc =  [[ 0.   ]\n",
      " [ 0.375]\n",
      " [ 0.   ]]\n",
      "yc =  -0.200279804654\n",
      "Total iter =  23 iteration k =  22  kk =  0\n",
      "xc =  [ 1.    0.5   0.25]\n",
      "yc =  -inf\n",
      "Total iter =  24 iteration k =  23  kk =  0\n",
      "xc =  [ 0.5    0.125  1.   ]\n",
      "yc =  -inf\n",
      "Total iter =  25 iteration k =  24  kk =  0\n",
      "xc =  [ 0.75   0.375  0.   ]\n",
      "yc =  -inf\n",
      "Total iter =  26 iteration k =  25  kk =  0\n",
      "xc =  [[ 0.5  ]\n",
      " [ 0.   ]\n",
      " [ 0.875]]\n",
      "yc =  -0.189157135823\n",
      "Total iter =  27 iteration k =  26  kk =  0\n",
      "xc =  [[ 0.125]\n",
      " [ 0.375]\n",
      " [ 0.875]]\n",
      "yc =  -0.150482261957\n",
      "Total iter =  28 iteration k =  27  kk =  0\n",
      "xc =  [[ 0.375]\n",
      " [ 0.75 ]\n",
      " [ 0.   ]]\n",
      "yc =  -0.138851741395\n",
      "Total iter =  29 iteration k =  28  kk =  0\n",
      "xc =  [ 0.125  0.375  1.   ]\n",
      "yc =  -inf\n",
      "Total iter =  30 iteration k =  29  kk =  0\n",
      "xc =  [[ 0.875]\n",
      " [ 0.125]\n",
      " [ 0.5  ]]\n",
      "yc =  -0.135406025074\n",
      "Total iter =  31 iteration k =  30  kk =  0\n",
      "xc =  [ 1.     0.125  0.5  ]\n",
      "yc =  -inf\n",
      "Total iter =  32 iteration k =  31  kk =  0\n",
      "xc =  [[ 0.875]\n",
      " [ 0.   ]\n",
      " [ 0.375]]\n",
      "yc =  -0.157573123475\n",
      "Total iter =  33 iteration k =  32  kk =  0\n",
      "xc =  [[ 0.5  ]\n",
      " [ 0.75 ]\n",
      " [ 0.875]]\n",
      "yc =  -0.130726786488\n",
      "Total iter =  34 iteration k =  33  kk =  0\n",
      "xc =  [ 1.     0.     0.375]\n",
      "yc =  -inf\n",
      "Total iter =  35 iteration k =  34  kk =  0\n",
      "xc =  [ 0.5  0.   1. ]\n",
      "yc =  -inf\n",
      "Total iter =  36 iteration k =  35  kk =  0\n",
      "xc =  [ 0.     0.     0.375]\n",
      "yc =  -inf\n",
      "Total iter =  37 iteration k =  36  kk =  0\n",
      "xc =  [ 0.75  1.    0.5 ]\n",
      "yc =  -inf\n",
      "Total iter =  38 iteration k =  37  kk =  0\n",
      "xc =  [ 0.     0.5    0.875]\n",
      "yc =  -inf\n",
      "Total iter =  39 iteration k =  38  kk =  0\n",
      "xc =  [[ 0.875]\n",
      " [ 0.375]\n",
      " [ 0.875]]\n",
      "yc =  -0.122503734587\n",
      "Total iter =  40 iteration k =  39  kk =  0\n",
      "xc =  [ 0.5   0.75  1.  ]\n",
      "yc =  -inf\n",
      "Total iter =  41 iteration k =  40  kk =  0\n",
      "xc =  [[ 0.5  ]\n",
      " [ 0.875]\n",
      " [ 0.875]]\n",
      "yc =  -0.115736880126\n",
      "Total iter =  42 iteration k =  41  kk =  0\n",
      "xc =  [[ 0.875]\n",
      " [ 0.875]\n",
      " [ 0.375]]\n",
      "yc =  -0.113999596454\n",
      "Total iter =  43 iteration k =  42  kk =  0\n",
      "xc =  [[ 0.875]\n",
      " [ 0.375]\n",
      " [ 0.   ]]\n",
      "yc =  -0.11147974601\n",
      "Total iter =  44 iteration k =  43  kk =  0\n",
      "xc =  [[ 0.375]\n",
      " [ 0.125]\n",
      " [ 0.5  ]]\n",
      "yc =  -0.10816845476\n",
      "Total iter =  45 iteration k =  44  kk =  0\n",
      "xc =  [ 0.875  0.5    1.   ]\n",
      "yc =  -inf\n",
      "Total iter =  46 iteration k =  45  kk =  0\n",
      "xc =  [ 1.     0.375  0.875]\n",
      "yc =  -inf\n",
      "Total iter =  47 iteration k =  46  kk =  0\n",
      "xc =  [[ 0.125]\n",
      " [ 0.875]\n",
      " [ 0.5  ]]\n",
      "yc =  -0.106077216507\n",
      "Total iter =  48 iteration k =  47  kk =  0\n",
      "xc =  [ 0.25   0.     0.625]\n",
      "yc =  -inf\n",
      "Total iter =  49 iteration k =  48  kk =  0\n",
      "xc =  [ 1.   0.5  0. ]\n",
      "yc =  -inf\n",
      "Total iter =  50 iteration k =  49  kk =  0\n",
      "xc =  [[ 0.5  ]\n",
      " [ 1.   ]\n",
      " [ 0.125]]\n",
      "yc =  -0.0989011862235\n",
      "Total iter =  51 iteration k =  50  kk =  0\n",
      "xc =  [[ 0.625]\n",
      " [ 0.   ]\n",
      " [ 0.   ]]\n",
      "yc =  -0.0953234122324\n",
      "Total iter =  52 iteration k =  51  kk =  0\n",
      "xc =  [ 0.75   0.     0.625]\n",
      "yc =  -inf\n",
      "Total iter =  53 iteration k =  52  kk =  0\n",
      "xc =  [ 0.   0.5  1. ]\n",
      "yc =  -inf\n",
      "Total iter =  54 iteration k =  53  kk =  0\n",
      "xc =  [ 1.   0.5  1. ]\n",
      "yc =  -inf\n",
      "Total iter =  55 iteration k =  54  kk =  0\n",
      "xc =  [[ 0.25 ]\n",
      " [ 0.25 ]\n",
      " [ 0.375]]\n",
      "yc =  -0.0915330822677\n",
      "Total iter =  56 iteration k =  55  kk =  0\n",
      "xc =  [ 0.     0.875  0.5  ]\n",
      "yc =  -inf\n",
      "Total iter =  57 iteration k =  56  kk =  0\n",
      "xc =  [ 0.5    1.     0.875]\n",
      "yc =  -inf\n",
      "Total iter =  58 iteration k =  57  kk =  0\n",
      "xc =  [ 1.     0.875  0.375]\n",
      "yc =  -inf\n",
      "Total iter =  59 iteration k =  58  kk =  0\n",
      "xc =  [ 0.125  1.     0.5  ]\n",
      "yc =  -inf\n",
      "Total iter =  60 iteration k =  59  kk =  0\n",
      "xc =  [[ 0.5  ]\n",
      " [ 0.875]\n",
      " [ 0.   ]]\n",
      "yc =  -0.103386951482\n",
      "Total iter =  61 iteration k =  60  kk =  0\n",
      "xc =  [[ 0.875]\n",
      " [ 0.75 ]\n",
      " [ 0.625]]\n",
      "yc =  -0.0822155745341\n",
      "Total iter =  62 iteration k =  61  kk =  0\n",
      "xc =  [[ 0.5  ]\n",
      " [ 0.875]\n",
      " [ 1.   ]]\n",
      "yc =  -0.0812539562154\n",
      "Total iter =  63 iteration k =  62  kk =  0\n",
      "xc =  [[ 0.625]\n",
      " [ 0.25 ]\n",
      " [ 0.75 ]]\n",
      "yc =  -0.0823177110003\n",
      "Total iter =  64 iteration k =  63  kk =  0\n",
      "xc =  [[ 0.125]\n",
      " [ 0.625]\n",
      " [ 0.125]]\n",
      "yc =  -0.079488524666\n",
      "Total iter =  65 iteration k =  64  kk =  0\n",
      "xc =  [[ 0.25 ]\n",
      " [ 0.125]\n",
      " [ 0.875]]\n",
      "yc =  -0.0770253978157\n",
      "Total iter =  66 iteration k =  65  kk =  0\n",
      "xc =  [ 1.   1.   0.5]\n",
      "yc =  -inf\n",
      "Total iter =  67 iteration k =  66  kk =  0\n",
      "xc =  [ 0.5  1.   0. ]\n",
      "yc =  -inf\n",
      "Total iter =  68 iteration k =  67  kk =  0\n",
      "xc =  [ 0.   1.   0.5]\n",
      "yc =  -inf\n",
      "Total iter =  69 iteration k =  68  kk =  0\n",
      "xc =  [[ 0.875]\n",
      " [ 0.   ]\n",
      " [ 0.625]]\n",
      "yc =  -0.0757520577846\n",
      "Total iter =  70 iteration k =  69  kk =  0\n",
      "xc =  [[ 0.625]\n",
      " [ 0.25 ]\n",
      " [ 0.25 ]]\n",
      "yc =  -0.0744029625407\n",
      "Total iter =  71 iteration k =  70  kk =  0\n",
      "xc =  [[ 0.   ]\n",
      " [ 0.   ]\n",
      " [ 0.625]]\n",
      "yc =  -0.0742156842966\n",
      "Total iter =  72 iteration k =  71  kk =  0\n",
      "xc =  [[ 0.75 ]\n",
      " [ 0.625]\n",
      " [ 0.125]]\n",
      "yc =  -0.0709767233292\n",
      "Total iter =  73 iteration k =  72  kk =  0\n",
      "xc =  [[ 0.25 ]\n",
      " [ 0.125]\n",
      " [ 0.125]]\n",
      "yc =  -0.0711607399172\n",
      "Total iter =  74 iteration k =  73  kk =  0\n",
      "xc =  [[ 0.125]\n",
      " [ 0.75 ]\n",
      " [ 0.75 ]]\n",
      "yc =  -0.0678977785365\n",
      "Total iter =  75 iteration k =  74  kk =  0\n",
      "xc =  [ 1.     0.25   0.125]\n",
      "yc =  -inf\n",
      "Total iter =  76 iteration k =  75  kk =  0\n",
      "xc =  [[ 0.   ]\n",
      " [ 0.125]\n",
      " [ 0.75 ]]\n",
      "yc =  -0.07745637051\n",
      "Total iter =  77 iteration k =  76  kk =  0\n",
      "xc =  [ 0.5  1.   1. ]\n",
      "yc =  -inf\n",
      "Total iter =  78 iteration k =  77  kk =  0\n",
      "xc =  [[ 0.75]\n",
      " [ 0.  ]\n",
      " [ 0.75]]\n",
      "yc =  -0.0639577858816\n",
      "Total iter =  79 iteration k =  78  kk =  0\n",
      "xc =  [[ 0.75 ]\n",
      " [ 0.125]\n",
      " [ 0.875]]\n",
      "yc =  -0.0643448452254\n",
      "Total iter =  80 iteration k =  79  kk =  0\n",
      "xc =  [[ 0.625]\n",
      " [ 0.125]\n",
      " [ 0.5  ]]\n",
      "yc =  -0.0602763986267\n",
      "Total iter =  81 iteration k =  80  kk =  0\n",
      "xc =  [ 1.     0.125  0.75 ]\n",
      "yc =  -inf\n",
      "Total iter =  82 iteration k =  81  kk =  0\n",
      "xc =  [ 1.     0.625  0.75 ]\n",
      "yc =  -inf\n",
      "Total iter =  83 iteration k =  82  kk =  0\n",
      "xc =  [ 0.     0.625  0.125]\n",
      "yc =  -inf\n",
      "Total iter =  84 iteration k =  83  kk =  0\n",
      "xc =  [[ 0.5  ]\n",
      " [ 0.5  ]\n",
      " [ 0.125]]\n",
      "yc =  -0.059099294012\n",
      "Total iter =  85 iteration k =  84  kk =  0\n",
      "xc =  [[ 0.75 ]\n",
      " [ 0.75 ]\n",
      " [ 0.875]]\n",
      "yc =  -0.0557045749178\n",
      "Total iter =  86 iteration k =  85  kk =  0\n",
      "xc =  [ 1.     0.     0.625]\n",
      "yc =  -inf\n",
      "Total iter =  87 iteration k =  86  kk =  0\n",
      "xc =  [[ 0.   ]\n",
      " [ 0.375]\n",
      " [ 0.25 ]]\n",
      "yc =  -0.0554937068065\n",
      "Total iter =  88 iteration k =  87  kk =  0\n",
      "xc =  [[ 0.25 ]\n",
      " [ 0.5  ]\n",
      " [ 0.375]]\n",
      "yc =  -0.0552108306172\n",
      "Total iter =  89 iteration k =  88  kk =  0\n",
      "xc =  [[ 0.25]\n",
      " [ 0.25]\n",
      " [ 0.75]]\n",
      "yc =  -0.0548036554105\n",
      "Total iter =  90 iteration k =  89  kk =  0\n",
      "xc =  [ 0.75   0.125  1.   ]\n",
      "yc =  -inf\n",
      "Total iter =  91 iteration k =  90  kk =  0\n",
      "xc =  [[ 0.875]\n",
      " [ 0.   ]\n",
      " [ 0.125]]\n",
      "yc =  -0.0540486804231\n",
      "Total iter =  92 iteration k =  91  kk =  0\n",
      "xc =  [[ 0.375]\n",
      " [ 0.25 ]\n",
      " [ 1.   ]]\n",
      "yc =  -0.0528584588974\n",
      "Total iter =  93 iteration k =  92  kk =  0\n",
      "xc =  [ 0.375  0.     0.5  ]\n",
      "yc =  -inf\n"
     ]
    },
    {
     "ename": "KeyboardInterrupt",
     "evalue": "",
     "output_type": "error",
     "traceback": [
      "\u001b[0;31m---------------------------------------------------------------------------\u001b[0m",
      "\u001b[0;31mKeyboardInterrupt\u001b[0m                         Traceback (most recent call last)",
      "\u001b[0;32m<ipython-input-7-ef1b9ce9955c>\u001b[0m in \u001b[0;36m<module>\u001b[0;34m()\u001b[0m\n\u001b[1;32m    225\u001b[0m                 \u001b[0mprint\u001b[0m\u001b[0;34m(\u001b[0m\u001b[0;34m'yc = '\u001b[0m\u001b[0;34m,\u001b[0m \u001b[0myc\u001b[0m\u001b[0;34m)\u001b[0m\u001b[0;34m\u001b[0m\u001b[0m\n\u001b[1;32m    226\u001b[0m                 \u001b[0mxE\u001b[0m \u001b[0;34m=\u001b[0m \u001b[0mnp\u001b[0m\u001b[0;34m.\u001b[0m\u001b[0mhstack\u001b[0m\u001b[0;34m(\u001b[0m\u001b[0;34m(\u001b[0m\u001b[0mxE\u001b[0m\u001b[0;34m,\u001b[0m \u001b[0mxc\u001b[0m\u001b[0;34m.\u001b[0m\u001b[0mreshape\u001b[0m\u001b[0;34m(\u001b[0m\u001b[0;34m-\u001b[0m\u001b[0;36m1\u001b[0m\u001b[0;34m,\u001b[0m \u001b[0;36m1\u001b[0m\u001b[0;34m)\u001b[0m\u001b[0;34m)\u001b[0m\u001b[0;34m)\u001b[0m\u001b[0;34m\u001b[0m\u001b[0m\n\u001b[0;32m--> 227\u001b[0;31m                 \u001b[0myE\u001b[0m \u001b[0;34m=\u001b[0m \u001b[0mnp\u001b[0m\u001b[0;34m.\u001b[0m\u001b[0mhstack\u001b[0m\u001b[0;34m(\u001b[0m\u001b[0;34m(\u001b[0m\u001b[0myE\u001b[0m\u001b[0;34m,\u001b[0m \u001b[0mfun\u001b[0m\u001b[0;34m(\u001b[0m\u001b[0mxc\u001b[0m\u001b[0;34m.\u001b[0m\u001b[0mreshape\u001b[0m\u001b[0;34m(\u001b[0m\u001b[0;34m-\u001b[0m\u001b[0;36m1\u001b[0m\u001b[0;34m,\u001b[0m\u001b[0;36m1\u001b[0m\u001b[0;34m)\u001b[0m\u001b[0;34m)\u001b[0m\u001b[0;34m)\u001b[0m\u001b[0;34m)\u001b[0m\u001b[0;34m\u001b[0m\u001b[0m\n\u001b[0m\u001b[1;32m    228\u001b[0m                 \u001b[0mT\u001b[0m \u001b[0;34m=\u001b[0m \u001b[0mnp\u001b[0m\u001b[0;34m.\u001b[0m\u001b[0mhstack\u001b[0m\u001b[0;34m(\u001b[0m\u001b[0;34m(\u001b[0m\u001b[0mT\u001b[0m\u001b[0;34m,\u001b[0m \u001b[0;36m1\u001b[0m\u001b[0;34m)\u001b[0m\u001b[0;34m)\u001b[0m\u001b[0;34m\u001b[0m\u001b[0m\n\u001b[1;32m    229\u001b[0m                 \u001b[0mSigmaT\u001b[0m \u001b[0;34m=\u001b[0m \u001b[0mnp\u001b[0m\u001b[0;34m.\u001b[0m\u001b[0mhstack\u001b[0m\u001b[0;34m(\u001b[0m\u001b[0;34m(\u001b[0m\u001b[0mSigmaT\u001b[0m\u001b[0;34m,\u001b[0m \u001b[0msigma0\u001b[0m\u001b[0;34m)\u001b[0m\u001b[0;34m)\u001b[0m\u001b[0;34m\u001b[0m\u001b[0m\n",
      "\u001b[0;32m<ipython-input-7-ef1b9ce9955c>\u001b[0m in \u001b[0;36m<lambda>\u001b[0;34m(x)\u001b[0m\n\u001b[1;32m     97\u001b[0m \u001b[0;32melif\u001b[0m \u001b[0mfun_arg\u001b[0m \u001b[0;34m==\u001b[0m \u001b[0;36m8\u001b[0m\u001b[0;34m:\u001b[0m \u001b[0;31m# Shubert function\u001b[0m\u001b[0;34m\u001b[0m\u001b[0m\n\u001b[1;32m     98\u001b[0m \u001b[0;34m\u001b[0m\u001b[0m\n\u001b[0;32m---> 99\u001b[0;31m     \u001b[0mfun\u001b[0m \u001b[0;34m=\u001b[0m \u001b[0;32mlambda\u001b[0m \u001b[0mx\u001b[0m\u001b[0;34m:\u001b[0m \u001b[0mmpl_cost\u001b[0m\u001b[0;34m(\u001b[0m\u001b[0mx\u001b[0m\u001b[0;34m)\u001b[0m\u001b[0;34m\u001b[0m\u001b[0m\n\u001b[0m\u001b[1;32m    100\u001b[0m     \u001b[0mlb\u001b[0m \u001b[0;34m=\u001b[0m \u001b[0mnp\u001b[0m\u001b[0;34m.\u001b[0m\u001b[0mzeros\u001b[0m\u001b[0;34m(\u001b[0m\u001b[0mn\u001b[0m\u001b[0;34m)\u001b[0m\u001b[0;34m\u001b[0m\u001b[0m\n\u001b[1;32m    101\u001b[0m     \u001b[0mub\u001b[0m \u001b[0;34m=\u001b[0m \u001b[0mnp\u001b[0m\u001b[0;34m.\u001b[0m\u001b[0mones\u001b[0m\u001b[0;34m(\u001b[0m\u001b[0mn\u001b[0m\u001b[0;34m)\u001b[0m\u001b[0;34m\u001b[0m\u001b[0m\n",
      "\u001b[0;32m<ipython-input-7-ef1b9ce9955c>\u001b[0m in \u001b[0;36mmpl_cost\u001b[0;34m(x0)\u001b[0m\n\u001b[1;32m     33\u001b[0m     \u001b[0mrandom_state1\u001b[0m \u001b[0;34m=\u001b[0m \u001b[0mint\u001b[0m\u001b[0;34m(\u001b[0m\u001b[0mx\u001b[0m\u001b[0;34m[\u001b[0m\u001b[0;36m2\u001b[0m\u001b[0;34m]\u001b[0m\u001b[0;34m[\u001b[0m\u001b[0;36m0\u001b[0m\u001b[0;34m]\u001b[0m\u001b[0;34m)\u001b[0m\u001b[0;34m\u001b[0m\u001b[0m\n\u001b[1;32m     34\u001b[0m \u001b[0;31m#     accuracy = black_box_mlp.train_and_eval(np_random_seed , alpha  , random_state )\u001b[0m\u001b[0;34m\u001b[0m\u001b[0;34m\u001b[0m\u001b[0m\n\u001b[0;32m---> 35\u001b[0;31m     \u001b[0maccuracy\u001b[0m \u001b[0;34m=\u001b[0m \u001b[0mblack_box_mlp\u001b[0m\u001b[0;34m.\u001b[0m\u001b[0mtrain_and_eval\u001b[0m\u001b[0;34m(\u001b[0m\u001b[0mnp_random_seed\u001b[0m \u001b[0;34m=\u001b[0m \u001b[0mnp_random_seed1\u001b[0m\u001b[0;34m,\u001b[0m \u001b[0malpha\u001b[0m  \u001b[0;34m=\u001b[0m \u001b[0malpha1\u001b[0m\u001b[0;34m,\u001b[0m \u001b[0mrandom_state\u001b[0m \u001b[0;34m=\u001b[0m \u001b[0mrandom_state1\u001b[0m\u001b[0;34m)\u001b[0m\u001b[0;34m\u001b[0m\u001b[0m\n\u001b[0m\u001b[1;32m     36\u001b[0m     \u001b[0;31m# save the result to a file.\u001b[0m\u001b[0;34m\u001b[0m\u001b[0;34m\u001b[0m\u001b[0m\n\u001b[1;32m     37\u001b[0m     \u001b[0;32mreturn\u001b[0m \u001b[0;36m1\u001b[0m\u001b[0;34m-\u001b[0m\u001b[0maccuracy\u001b[0m\u001b[0;34m\u001b[0m\u001b[0m\n",
      "\u001b[0;32m/home/carnd/ryan/mnist-mlp/black_box_mlp.py\u001b[0m in \u001b[0;36mtrain_and_eval\u001b[0;34m(**kwargs)\u001b[0m\n\u001b[1;32m     74\u001b[0m     \u001b[0melm\u001b[0m \u001b[0;34m=\u001b[0m \u001b[0mSimpleMLP\u001b[0m\u001b[0;34m(\u001b[0m\u001b[0;34m**\u001b[0m\u001b[0mkwargs\u001b[0m\u001b[0;34m)\u001b[0m\u001b[0;34m\u001b[0m\u001b[0m\n\u001b[1;32m     75\u001b[0m \u001b[0;34m\u001b[0m\u001b[0m\n\u001b[0;32m---> 76\u001b[0;31m     \u001b[0melm\u001b[0m\u001b[0;34m.\u001b[0m\u001b[0mfit\u001b[0m\u001b[0;34m(\u001b[0m\u001b[0mX_train\u001b[0m\u001b[0;34m,\u001b[0m \u001b[0my_train\u001b[0m\u001b[0;34m)\u001b[0m\u001b[0;34m\u001b[0m\u001b[0m\n\u001b[0m\u001b[1;32m     77\u001b[0m     \u001b[0my_pred\u001b[0m \u001b[0;34m=\u001b[0m \u001b[0melm\u001b[0m\u001b[0;34m.\u001b[0m\u001b[0mpredict\u001b[0m\u001b[0;34m(\u001b[0m\u001b[0mX_test\u001b[0m\u001b[0;34m)\u001b[0m\u001b[0;34m\u001b[0m\u001b[0m\n\u001b[1;32m     78\u001b[0m \u001b[0;34m\u001b[0m\u001b[0m\n",
      "\u001b[0;32m/home/carnd/ryan/mnist-mlp/black_box_mlp.py\u001b[0m in \u001b[0;36mfit\u001b[0;34m(self, X, y)\u001b[0m\n\u001b[1;32m     57\u001b[0m         \u001b[0mself\u001b[0m\u001b[0;34m.\u001b[0m\u001b[0mweights_\u001b[0m \u001b[0;34m=\u001b[0m \u001b[0mself\u001b[0m\u001b[0;34m.\u001b[0m\u001b[0mgain\u001b[0m\u001b[0;34m*\u001b[0m\u001b[0mnp\u001b[0m\u001b[0;34m.\u001b[0m\u001b[0mrandom\u001b[0m\u001b[0;34m.\u001b[0m\u001b[0mrandn\u001b[0m\u001b[0;34m(\u001b[0m\u001b[0mself\u001b[0m\u001b[0;34m.\u001b[0m\u001b[0mnum_neurons\u001b[0m\u001b[0;34m,\u001b[0m\u001b[0mX\u001b[0m\u001b[0;34m.\u001b[0m\u001b[0mshape\u001b[0m\u001b[0;34m[\u001b[0m\u001b[0;36m1\u001b[0m\u001b[0;34m]\u001b[0m\u001b[0;34m)\u001b[0m\u001b[0;34m.\u001b[0m\u001b[0mT\u001b[0m\u001b[0;34m\u001b[0m\u001b[0m\n\u001b[1;32m     58\u001b[0m         \u001b[0;31m# project\u001b[0m\u001b[0;34m\u001b[0m\u001b[0;34m\u001b[0m\u001b[0m\n\u001b[0;32m---> 59\u001b[0;31m         \u001b[0mZ\u001b[0m \u001b[0;34m=\u001b[0m \u001b[0mnp\u001b[0m\u001b[0;34m.\u001b[0m\u001b[0mtanh\u001b[0m\u001b[0;34m(\u001b[0m\u001b[0mnp\u001b[0m\u001b[0;34m.\u001b[0m\u001b[0mdot\u001b[0m\u001b[0;34m(\u001b[0m\u001b[0mX\u001b[0m\u001b[0;34m,\u001b[0m \u001b[0mself\u001b[0m\u001b[0;34m.\u001b[0m\u001b[0mweights_\u001b[0m\u001b[0;34m)\u001b[0m\u001b[0;34m)\u001b[0m\u001b[0;34m\u001b[0m\u001b[0m\n\u001b[0m\u001b[1;32m     60\u001b[0m         \u001b[0;31m# do actual \"learning\"\u001b[0m\u001b[0;34m\u001b[0m\u001b[0;34m\u001b[0m\u001b[0m\n\u001b[1;32m     61\u001b[0m         \u001b[0mself\u001b[0m\u001b[0;34m.\u001b[0m\u001b[0mclf_\u001b[0m\u001b[0;34m.\u001b[0m\u001b[0mfit\u001b[0m\u001b[0;34m(\u001b[0m\u001b[0mZ\u001b[0m\u001b[0;34m,\u001b[0m\u001b[0my\u001b[0m\u001b[0;34m)\u001b[0m\u001b[0;34m\u001b[0m\u001b[0m\n",
      "\u001b[0;31mKeyboardInterrupt\u001b[0m: "
     ]
    }
   ],
   "source": [
    "#!/usr/bin/env python3\n",
    "# -*- coding: utf-8 -*-\n",
    "\"\"\"\n",
    "Created on Fri Jul 21 21:43:35 2017\n",
    "\n",
    "@author: mousse\n",
    "\"\"\"\n",
    "\n",
    "# Difference: !!! This can save plots\n",
    "\n",
    "import numpy as np\n",
    "from scipy.linalg import norm\n",
    "import pandas as pd\n",
    "import dogs\n",
    "import scipy\n",
    "import scipy.io\n",
    "import matplotlib.pyplot as plt\n",
    "from matplotlib.pyplot import cm\n",
    "import black_box_mlp\n",
    "\n",
    "def mpl_cost(x0):\n",
    "    # var_opt = io.loadmat(\"allpoints/pre_opt_IC\")\n",
    "    # bnd1 = var_opt['lb'][0]\n",
    "    # bnd2 = var_opt['ub'][0]\n",
    "    # n = var_opt['n'][0, 0]\n",
    "    lb = np.array([90,0.001,1])\n",
    "    ub = np.array([120,1,8])\n",
    "\n",
    "    x  = dogs.physical_bounds(x0, lb, ub)\n",
    "#     print(x)\n",
    "    np_random_seed1 = int(x[0][0])\n",
    "    alpha1  = x[1][0]\n",
    "    random_state1 = int(x[2][0])\n",
    "#     accuracy = black_box_mlp.train_and_eval(np_random_seed , alpha  , random_state )\n",
    "    accuracy = black_box_mlp.train_and_eval(np_random_seed = np_random_seed1, alpha  = alpha1, random_state = random_state1)    \n",
    "    # save the result to a file.\n",
    "    return 1-accuracy\n",
    "\n",
    "\n",
    "# This script shows the Delta DOGS Adaptive K main code\n",
    "\n",
    "# def scale_fun(yE, K0=0):\n",
    "#     if K0 !=0: # not givem sacle/ range of the function\n",
    "#         # K0 = 1/range\n",
    "#         return yE*K0\n",
    "#     else:\n",
    "#         rangef = np.ptp(yE, axis=0)\n",
    "#         return yE * 1/rangef\n",
    "\n",
    "n = 3              # Dimenstion of input data\n",
    "sigma0 = 0.0001       # For temporary interpolation based on alpha-dogs.\n",
    "fun_arg = 8        # Type of function evaluation\n",
    "plot_index = 0\n",
    "iter_max = 150      # Maximum number of iterations based on each mesh\n",
    "MeshSize = 1       # Represents the number of mesh refinement that algorithm will perform\n",
    "num_iter = 0       # Represents how many iteration the algorithm goes\n",
    "nff = 1            # Number of experiments\n",
    "sc = \"AdaptiveK\"   # The type of continuous search function\n",
    "# Calculate the Initial trinagulation points\n",
    "Nm = 8             # Initial mesh grid size\n",
    "\n",
    "# truth function\n",
    "if fun_arg == 1:  # quadratic:\n",
    "    fun = lambda x: 5 * norm(x - 0.3) ** 2\n",
    "    y0 = 0.0  # targert value for objective function\n",
    "\n",
    "elif fun_arg == 2:  # schewfel\n",
    "    fun = lambda x: - sum(np.multiply(500 * x, np.sin(np.sqrt(abs(500 * x))))) / 250\n",
    "    y0 = -1.6759 * n  # targert value for objective function\n",
    "\n",
    "elif fun_arg == 3:  # rastinginn\n",
    "    A = 3\n",
    "    fun = lambda x: ( sum((x - 0.7) ** 2 - A * np.cos(2 * np.pi * (x - 0.7))) ) / 1.5\n",
    "\n",
    "elif fun_arg == 5:  # schwefel + quadratic\n",
    "    fun = lambda x: - x[0][0] / 2 * np.sin(np.abs(500*x[0][0])) + 10 * (x[1][0] - 0.92)**2\n",
    "    lb = np.zeros(n)\n",
    "    ub = np.ones(n)\n",
    "    y0 = -0.44288\n",
    "    xmin = np.array([0.89536, 0.94188])\n",
    "    \n",
    "elif fun_arg == 6: # Griewank function\n",
    "    fun = lambda x: 1 + 1/4 * ((x[0][0]-0.67) ** 2 + (x[1][0] - 0.21) **2) - np.cos(x[0][0]) * np.cos(x[1][0]/np.sqrt(2))\n",
    "    lb = np.zeros(n)\n",
    "    ub = np.ones(n)\n",
    "    y0 = 0.08026\n",
    "    xmin = np.array([0.21875, 0.09375])\n",
    "    \n",
    "elif fun_arg == 7: # Shubert function\n",
    "    tt = np.arange(1, 6)\n",
    "    fun = lambda x: np.dot(tt, np.cos((tt + 1) * (x[0][0]-0.45) + tt)) * np.dot(tt, np.cos((tt + 1) * (x[1][0]-0.45) + tt))\n",
    "    lb = np.zeros(n)\n",
    "    ub = np.ones(n)\n",
    "    y0 = -32.7533\n",
    "    xmin = np.array([0.78125, 0.25])\n",
    "\n",
    "elif fun_arg == 8: # Shubert function\n",
    "    \n",
    "    fun = lambda x: mpl_cost(x)\n",
    "    lb = np.zeros(n)\n",
    "    ub = np.ones(n)\n",
    "    y0 = 0.03\n",
    "elif fun_arg == 9: # Shubert function    \n",
    "#     TODO: need new test function\n",
    "    accuracy = black_box_mlp.train_and_eval(num_neurons = 5e3, gain = 1e-4, alpha = 1e-3, n_iter = 10, \n",
    "                                        random_state=2, np_random_seed=111)\n",
    "    lb = np.zeros(n)\n",
    "    ub = np.ones(n)\n",
    "    y0 = 0.03\n",
    "#     xmin = np.array([0.78125, 0.25])\n",
    "    \n",
    "# elif fun_arg==4:\n",
    "    # funr = lambda x: np.sin(30. * (x - 0.89)**4) * np.cos(2.0 * (x - 0.89)) + (x - 0.89)/ 2.0\n",
    "    # fun = lambda x, N: funr(x) + sigma0 * np.random.randn(1) + sigma0 * np.random.randn(1) + n * C0 * (1. / N) ** 3.0\n",
    "\n",
    "xU = dogs.bounds(np.zeros([n, 1]), np.ones([n, 1]), n)\n",
    "Ain = np.concatenate((np.identity(n), -np.identity(n)), axis=0)\n",
    "Bin = np.concatenate((np.ones((n, 1)), np.zeros((n, 1))), axis=0)\n",
    "\n",
    "regret = np.zeros((nff, iter_max))\n",
    "estimate = np.zeros((nff, iter_max))\n",
    "datalength = np.zeros((nff, iter_max))\n",
    "mesh = np.zeros((nff, iter_max))\n",
    "\n",
    "for ff in range(nff):\n",
    "    if fun_arg != 4:    \n",
    "        if n == 1:\n",
    "            xE = np.array([[0.3, 0.5, 0.7]])\n",
    "            xE = np.round(xE * Nm) / Nm  # quantize the points\n",
    "        elif n == 2:\n",
    "            xE = np.array([[0.875, 0.5, 0.25, 0.125, 0.75, 0.5], [0.25, 0.125, 0.875, 0.5, 0.875, 0.75]])\n",
    "        else:\n",
    "            xE = np.array([[0.5, 0.5, 0.5, 0.75], [0.5, 0.5, 0.75, 0.5], [0.5, 0.75, 0.5, 0.5]])\n",
    "#             xE = np.random.rand(n, n + 1)\n",
    "            xE = np.round(xE * Nm) / Nm\n",
    "        num_ini = xE.shape[1]\n",
    "        yE = np.zeros(xE.shape[1])\n",
    "        T = np.zeros(xE.shape[1])\n",
    "        SigmaT = np.zeros(xE.shape[1])\n",
    "        \n",
    "        # Calculate the function at initial points\n",
    "        for ii in range(xE.shape[1]):\n",
    "            xtmp = np.copy(xE[:, ii].reshape(-1,1))\n",
    "            yE[ii] = fun(xtmp)\n",
    "            T[ii] = 1\n",
    "            SigmaT[ii] = sigma0\n",
    "\n",
    "    inter_par = dogs.Inter_par(method=\"NPS\")\n",
    "    yE_best = np.array([])\n",
    "    # sacle the function evaluations\n",
    "    # K0 = 1/np.ptp(yE, axis=0) #scale the domain\n",
    "    # K0 = 1/14.71\n",
    "    # alpha = 1 / K0\n",
    "    # alpha = 14.71\n",
    "\n",
    "    for kk in range(MeshSize):\n",
    "#        if num_iter == 15:\n",
    "#            break\n",
    "        for k in range(iter_max):\n",
    "#            if num_iter == 15:\n",
    "#                break\n",
    "            #%%\n",
    "            num_iter += 1\n",
    "            print('Total iter = ', num_iter, 'iteration k = ', k, ' kk = ', kk)\n",
    "\n",
    "            K0 = np.ptp(yE, axis=0)  # scale the domain\n",
    "            # y0 = scale_fun(y0,K0)\n",
    "\n",
    "            [inter_par, yp] = dogs.interpolateparameterization(xE, yE, inter_par)\n",
    "\n",
    "#            sd = (np.amin((yp, 2 * yE - yp), 0) -y0)/sigma\n",
    "            ypmin = np.amin(yp)\n",
    "            ind_min = np.argmin(yp)\n",
    "\n",
    "            # Calcuate the unevaluated function:\n",
    "            yu = np.zeros([1, xU.shape[1]])\n",
    "            if xU.shape[1] != 0:\n",
    "                for ii in range(xU.shape[1]):\n",
    "                    tmp = dogs.interpolate_val(xU[:, ii], inter_par) - np.amin(yp)\n",
    "                    yu[0, ii] = tmp / dogs.mindis(xU[:, ii], xE)[0]\n",
    "                \n",
    "            if xU.shape[1] != 0 and np.amin(yu) < 0:\n",
    "                t = np.amin(yu)\n",
    "                ind = np.argmin(yu)\n",
    "                xc = xU[:, ind]\n",
    "                yc = -np.inf\n",
    "                xU = scipy.delete(xU, ind, 1)  # create empty array\n",
    "            else:\n",
    "                while 1:\n",
    "                    # minimize s_c\n",
    "                    xs, ind_min = dogs.add_sup(xE, xU, ind_min)\n",
    "                    xc, yc = dogs.tringulation_search_bound(inter_par, xs, y0, K0, ind_min)\n",
    "                    yc = yc[0, 0]\n",
    "                    if dogs.interpolate_val(xc, inter_par) < min(yp):\n",
    "                        xc = np.round(xc * Nm) / Nm\n",
    "                        break\n",
    "                    else:\n",
    "                        xc = np.round(xc * Nm) / Nm\n",
    "                        if dogs.mindis(xc, xE)[0] < 1e-6:\n",
    "                            break\n",
    "                        xc, xE, xU, success, _ = dogs.points_neighbers_find(xc, xE, xU, Bin, Ain)\n",
    "                        if success == 1:\n",
    "                            break\n",
    "                        else:\n",
    "                            yu = np.hstack([yu, (dogs.interpolate_val(xc, inter_par) - y0) / dogs.mindis(xc, xE)[0]])\n",
    "                if xU.shape[1] != 0:\n",
    "                    if dogs.mindis(xc, xE)[0] < 1e-6:\n",
    "                        tmp = 1e+20\n",
    "                    else:\n",
    "                        tmp = (dogs.interpolate_val(xc, inter_par) - y0) / dogs.mindis(xc, xE)[0]\n",
    "                    if (np.amin(yu)) < tmp:\n",
    "                        t = np.amin(yu)\n",
    "                        ind = np.argmin(yu)\n",
    "                        xc = xU[:, ind]\n",
    "                        yc = -np.inf\n",
    "                        xU = scipy.delete(xU, ind, 1)  # create empty array\n",
    "                            \n",
    "                    # Minimize S_d ^ k(x)\n",
    "            if dogs.mindis(xc, xE)[0] < 1e-6:\n",
    "                Nm *= 2 \n",
    "                print('===============  MESH Refinement  ===================')\n",
    "\n",
    "            else:\n",
    "                print('xc = ', xc)\n",
    "                print('yc = ', yc)\n",
    "                xE = np.hstack((xE, xc.reshape(-1, 1)))\n",
    "                yE = np.hstack((yE, fun(xc.reshape(-1,1))))\n",
    "                T = np.hstack((T, 1))\n",
    "                SigmaT = np.hstack((SigmaT, sigma0))\n",
    "            \n",
    "            if 1:\n",
    "                yE_best = np.hstack((yE_best, min(yE)))\n",
    "                p_iter = np.zeros(num_iter)\n",
    "#                dogs.plot_delta_dogs(xE, yE, \"Ddogs\", sc, 0, fun_arg, p_iter, np.array([0, 1]), num_ini, Nm, 0, ff)\n",
    "    if 1 and num_iter > 15:\n",
    "        plt.figure()\n",
    "        plt.title('Candidate point')\n",
    "        plt.plot(np.arange(num_iter)+1, yE_best)\n",
    "        plt.grid()\n",
    "        plt.savefig('plot/DimRed/' + str(ff) + '/BestCandidate' +'.png', format='png', dpi=1000) \n",
    "           #%%\n",
    "#    regret[ff, k] = np.min(yr)\n",
    "#    estimate[ff, k] = yE[ind_out]\n",
    "#    datalength[ff, k] = np.shape(xE)[1]\n",
    "#    mesh[ff, k] = Nm\n"
   ]
  },
  {
   "cell_type": "code",
   "execution_count": 8,
   "metadata": {},
   "outputs": [],
   "source": [
    "\n",
    "# for kk in range(MeshSize):\n",
    "# #        if num_iter == 15:\n",
    "# #            break\n",
    "#         for k in range(iter_max):\n",
    "# #            if num_iter == 15:\n",
    "# #                break\n",
    "#             #%%\n",
    "#             num_iter += 1\n",
    "#             print('Total iter = ', num_iter, 'iteration k = ', k, ' kk = ', kk)\n",
    "\n",
    "#             K0 = np.ptp(yE, axis=0)  # scale the domain\n",
    "#             # y0 = scale_fun(y0,K0)\n",
    "\n",
    "#             [inter_par, yp] = dogs.interpolateparameterization(xE, yE, inter_par)\n",
    "\n",
    "# #            sd = (np.amin((yp, 2 * yE - yp), 0) -y0)/sigma\n",
    "#             ypmin = np.amin(yp)\n",
    "#             ind_min = np.argmin(yp)\n",
    "\n",
    "#             # Calcuate the unevaluated function:\n",
    "#             yu = np.zeros([1, xU.shape[1]])\n",
    "#             if xU.shape[1] != 0:\n",
    "#                 for ii in range(xU.shape[1]):\n",
    "#                     tmp = dogs.interpolate_val(xU[:, ii], inter_par) - np.amin(yp)\n",
    "#                     yu[0, ii] = tmp / dogs.mindis(xU[:, ii], xE)[0]\n",
    "                \n",
    "#             if xU.shape[1] != 0 and np.amin(yu) < 0:\n",
    "#                 t = np.amin(yu)\n",
    "#                 ind = np.argmin(yu)\n",
    "#                 xc = xU[:, ind]\n",
    "#                 yc = -np.inf\n",
    "#                 xU = scipy.delete(xU, ind, 1)  # create empty array\n",
    "#             else:\n",
    "#                 while 1:\n",
    "#                     # minimize s_c\n",
    "#                     xs, ind_min = dogs.add_sup(xE, xU, ind_min)\n",
    "#                     xc, yc = dogs.tringulation_search_bound(inter_par, xs, y0, K0, ind_min)\n",
    "#                     yc = yc[0, 0]\n",
    "#                     if dogs.interpolate_val(xc, inter_par) < min(yp):\n",
    "#                         xc = np.round(xc * Nm) / Nm\n",
    "#                         break\n",
    "#                     else:\n",
    "#                         xc = np.round(xc * Nm) / Nm\n",
    "#                         if dogs.mindis(xc, xE)[0] < 1e-6:\n",
    "#                             break\n",
    "#                         xc, xE, xU, success, _ = dogs.points_neighbers_find(xc, xE, xU, Bin, Ain)\n",
    "#                         if success == 1:\n",
    "#                             break\n",
    "#                         else:\n",
    "#                             yu = np.hstack([yu, (dogs.interpolate_val(xc, inter_par) - y0) / dogs.mindis(xc, xE)[0]])\n",
    "#                 if xU.shape[1] != 0:\n",
    "#                     if dogs.mindis(xc, xE)[0] < 1e-6:\n",
    "#                         tmp = 1e+20\n",
    "#                     else:\n",
    "#                         tmp = (dogs.interpolate_val(xc, inter_par) - y0) / dogs.mindis(xc, xE)[0]\n",
    "#                     if (np.amin(yu)) < tmp:\n",
    "#                         t = np.amin(yu)\n",
    "#                         ind = np.argmin(yu)\n",
    "#                         xc = xU[:, ind]\n",
    "#                         yc = -np.inf\n",
    "#                         xU = scipy.delete(xU, ind, 1)  # create empty array\n",
    "                            \n",
    "#                     # Minimize S_d ^ k(x)\n",
    "#             if dogs.mindis(xc, xE)[0] < 1e-6:\n",
    "#                 Nm *= 2 \n",
    "#                 print('===============  MESH Refinement  ===================')\n",
    "\n",
    "#             else:\n",
    "#                 print('xc = ', xc)\n",
    "#                 print('yc = ', yc)\n",
    "#                 xE = np.hstack((xE, xc.reshape(-1, 1)))\n",
    "#                 yE = np.hstack((yE, fun(xc.reshape(-1,1))))\n",
    "#                 T = np.hstack((T, 1))\n",
    "#                 SigmaT = np.hstack((SigmaT, sigma0))\n",
    "            \n",
    "#             if 1:\n",
    "#                 yE_best = np.hstack((yE_best, min(yE)))\n",
    "#                 p_iter = np.zeros(num_iter)\n",
    "# #                dogs.plot_delta_dogs(xE, yE, \"Ddogs\", sc, 0, fun_arg, p_iter, np.array([0, 1]), num_ini, Nm, 0, ff)\n",
    "# #     if 1 and num_iter > 15:\n",
    "# #         plt.figure()\n",
    "# #         plt.title('Candidate point')\n",
    "# #         plt.plot(np.arange(num_iter)+1, yE_best)\n",
    "# #         plt.grid()\n",
    "# #         plt.savefig('plot/DimRed/' + str(ff) + '/BestCandidate' +'.png', format='png', dpi=1000) \n",
    "# #            #%%\n",
    "# #    regret[ff, k] = np.min(yr)\n",
    "# #    estimate[ff, k] = yE[ind_out]\n",
    "# #    datalength[ff, k] = np.shape(xE)[1]\n",
    "# #    mesh[ff, k] = Nm\n"
   ]
  },
  {
   "cell_type": "code",
   "execution_count": 11,
   "metadata": {},
   "outputs": [
    {
     "name": "stdout",
     "output_type": "stream",
     "text": [
      "0.927359307359\n",
      "[[ 90.   ]\n",
      " [  0.001]\n",
      " [  1.   ]]\n"
     ]
    }
   ],
   "source": [
    "print(1-np.min(yE))\n",
    "# np_random_seed=111, alpha=.1, random_state=2\n",
    "lb = np.array([90,0.001,1])\n",
    "ub = np.array([120,1,8])\n",
    "ind = np.argmin(yE)\n",
    "x1 = xE[:, ind]\n",
    "x2 = dogs.physical_bounds(x1.reshape(-1,1),lb,ub)\n",
    "print(x2)"
   ]
  },
  {
   "cell_type": "code",
   "execution_count": 12,
   "metadata": {},
   "outputs": [
    {
     "name": "stdout",
     "output_type": "stream",
     "text": [
      "[[ 90.   ]\n",
      " [  0.001]\n",
      " [  1.   ]]\n"
     ]
    }
   ],
   "source": [
    "# np_random_seed=111, alpha=.1, random_state=2\n",
    "lb = np.array([90,0.001,1])\n",
    "ub = np.array([120,1,8])\n",
    "ind = np.argmin(yE)\n",
    "x1 = xE[:, ind]\n",
    "x2 = dogs.physical_bounds(x1.reshape(-1,1),lb,ub)\n",
    "print(x2)"
   ]
  },
  {
   "cell_type": "code",
   "execution_count": 13,
   "metadata": {},
   "outputs": [
    {
     "name": "stdout",
     "output_type": "stream",
     "text": [
      "0.927359307359\n"
     ]
    }
   ],
   "source": [
    "print(1-min(yE))"
   ]
  },
  {
   "cell_type": "code",
   "execution_count": 14,
   "metadata": {},
   "outputs": [
    {
     "data": {
      "image/png": "[encoded data removed]",
      "text/plain": [
       "<matplotlib.figure.Figure at 0x7fb95d6be7b8>"
      ]
     },
     "metadata": {},
     "output_type": "display_data"
    }
   ],
   "source": [
    "tt = np.linspace(1,len(yE),len(yE))\n",
    "plt.plot(tt,1-yE)\n",
    "plt.show()"
   ]
  },
  {
   "cell_type": "code",
   "execution_count": null,
   "metadata": {},
   "outputs": [],
   "source": []
  },
  {
   "cell_type": "code",
   "execution_count": 15,
   "metadata": {},
   "outputs": [],
   "source": [
    "def pareto_frontier(Xs, Ys, maxX = True, maxY = True):\n",
    "# Sort the list in either ascending or descending order of X\n",
    "    myList = sorted([[Xs[i], Ys[i]] for i in range(len(Xs))], reverse=maxX)\n",
    "# Start the Pareto frontier with the first value in the sorted list\n",
    "    p_front = [myList[0]]    \n",
    "# Loop through the sorted list\n",
    "    for pair in myList[1:]:\n",
    "        if maxY: \n",
    "            if pair[1] >= p_front[-1][1]: # Look for higher values of Y…\n",
    "                p_front.append(pair) # … and add them to the Pareto frontier\n",
    "        else:\n",
    "            if pair[1] <= p_front[-1][1]: # Look for lower values of Y…\n",
    "                p_front.append(pair) # … and add them to the Pareto frontier\n",
    "# Turn resulting pairs back into a list of Xs and Ys\n",
    "    p_frontX = [pair[0] for pair in p_front]\n",
    "    p_frontY = [pair[1] for pair in p_front]\n",
    "    return p_frontX, p_frontY"
   ]
  },
  {
   "cell_type": "code",
   "execution_count": 16,
   "metadata": {},
   "outputs": [
    {
     "data": {
      "image/png": "[encoded data removed]",
      "text/plain": [
       "<matplotlib.figure.Figure at 0x7fb95d6140b8>"
      ]
     },
     "metadata": {},
     "output_type": "display_data"
    }
   ],
   "source": [
    "p_front = pareto_frontier(tt, 1-yE, maxX = False, maxY = True) \n",
    "plt.plot(tt, 1-yE)\n",
    "# Then plot the Pareto frontier on top\n",
    "plt.plot(p_front[0], p_front[1],'r')\n",
    "plt.xlabel('fun. eval.')\n",
    "plt.ylabel('accuracy')\n",
    "plt.show()"
   ]
  },
  {
   "cell_type": "code",
   "execution_count": 17,
   "metadata": {},
   "outputs": [
    {
     "data": {
      "image/png": "[encoded data removed]",
      "text/plain": [
       "<matplotlib.figure.Figure at 0x7fb95d61a748>"
      ]
     },
     "metadata": {},
     "output_type": "display_data"
    }
   ],
   "source": [
    "tt = np.linspace(1,len(yE),len(yE))\n",
    "p_front = pareto_frontier(tt, 1-yE, maxX = False, maxY = True) \n",
    "plt.plot(tt, 1-yE)\n",
    "# Then plot the Pareto frontier on top\n",
    "plt.plot(p_front[0], p_front[1],'r')\n",
    "plt.xlabel('fun. eval.')\n",
    "plt.ylabel('accuracy')\n",
    "plt.show()\n",
    "\n",
    "# x0 = np.array([1,1,1]).reshape(-1,1)\n",
    "# lb = np.array([90,0.001,1])\n",
    "# ub = np.array([120,1,8])\n",
    "\n",
    "# x=   dogs.normalize_bounds(x0, lb, ub)\n",
    "# np_random_seed = x[0]\n",
    "# alpha  = x[1]\n",
    "# random_state = x[2]\n"
   ]
  },
  {
   "cell_type": "code",
   "execution_count": 41,
   "metadata": {},
   "outputs": [
    {
     "name": "stdout",
     "output_type": "stream",
     "text": [
      "1\n"
     ]
    }
   ],
   "source": [
    "# print(x[1][0])    \n",
    "# accuracy = black_box_mlp.train_and_eval(np_random_seed = x[0], alpha  = x[1], random_state = x[2])\n",
    "    "
   ]
  },
  {
   "cell_type": "code",
   "execution_count": 15,
   "metadata": {},
   "outputs": [],
   "source": [
    "# xtmp = np.copy(xE[:, ii].reshape(-1,1))\n",
    "# xE"
   ]
  },
  {
   "cell_type": "code",
   "execution_count": 49,
   "metadata": {},
   "outputs": [
    {
     "name": "stdout",
     "output_type": "stream",
     "text": [
      "[[ 0.5]\n",
      " [ 0.5]\n",
      " [ 0.5]]\n"
     ]
    }
   ],
   "source": [
    "# print(xE[:, ii].reshape(-1,1))"
   ]
  },
  {
   "cell_type": "code",
   "execution_count": 132,
   "metadata": {},
   "outputs": [],
   "source": [
    "# def mpl_cost(x0):\n",
    "#     # var_opt = io.loadmat(\"allpoints/pre_opt_IC\")\n",
    "#     # bnd1 = var_opt['lb'][0]\n",
    "#     # bnd2 = var_opt['ub'][0]\n",
    "#     # n = var_opt['n'][0, 0]\n",
    "#     lb = np.array([90,0.001,1])\n",
    "#     ub = np.array([120,1,8])\n",
    "\n",
    "#     x  = dogs.physical_bounds(x0, lb, ub)\n",
    "# #     print(x)\n",
    "#     np_random_seed1 = int(x[0][0])\n",
    "#     alpha1  = x[1][0]\n",
    "#     random_state1 = int(x[2][0])\n",
    "#     print(x)\n",
    "#     print(np_random_seed)\n",
    "#     print(alpha)\n",
    "#     print(random_state)\n",
    "# #     accuracy = black_box_mlp.train_and_eval(np_random_seed , alpha  , random_state )\n",
    "    \n",
    "#     accuracy = black_box_mlp.train_and_eval(np_random_seed = np_random_seed1, alpha  = alpha1, random_state = random_state1)\n",
    "    \n",
    "    \n",
    "#     # save the result to a file.\n",
    "#     return 1-accuracy\n"
   ]
  },
  {
   "cell_type": "code",
   "execution_count": 133,
   "metadata": {},
   "outputs": [
    {
     "name": "stdout",
     "output_type": "stream",
     "text": [
      "[[ 0.5]\n",
      " [ 0.5]\n",
      " [ 0.5]]\n",
      "[[ 105.    ]\n",
      " [   0.5005]\n",
      " [   4.5   ]]\n"
     ]
    }
   ],
   "source": [
    "\n",
    "# x0 = xE[:, ii].reshape(-1,1)\n",
    "# print(x0)\n",
    "# x1 = dogs.physical_bounds(x0, lb, ub)\n",
    "# print(x1)\n",
    "# np_random_seed = x1[0][0]"
   ]
  },
  {
   "cell_type": "code",
   "execution_count": 134,
   "metadata": {},
   "outputs": [
    {
     "name": "stdout",
     "output_type": "stream",
     "text": [
      "[[ 105.    ]\n",
      " [   0.5005]\n",
      " [   4.5   ]]\n",
      "105.0\n",
      "[1]\n",
      "[0]\n"
     ]
    },
    {
     "name": "stderr",
     "output_type": "stream",
     "text": [
      "/home/carnd/anaconda3/lib/python3.5/site-packages/sklearn/linear_model/stochastic_gradient.py:84: FutureWarning: max_iter and tol parameters have been added in <class 'sklearn.linear_model.stochastic_gradient.SGDClassifier'> in 0.19. If both are left unset, they default to max_iter=5 and tol=None. If tol is not None, max_iter defaults to max_iter=1000. From 0.21, default max_iter will be 1000, and default tol will be 1e-3.\n",
      "  \"and default tol will be 1e-3.\" % type(self), FutureWarning)\n"
     ]
    }
   ],
   "source": [
    "\n",
    "# y = mpl_cost(x0)"
   ]
  },
  {
   "cell_type": "code",
   "execution_count": null,
   "metadata": {},
   "outputs": [],
   "source": []
  },
  {
   "cell_type": "code",
   "execution_count": 116,
   "metadata": {},
   "outputs": [
    {
     "name": "stdout",
     "output_type": "stream",
     "text": [
      "[ 112.     0.8    8. ]\n"
     ]
    },
    {
     "name": "stderr",
     "output_type": "stream",
     "text": [
      "/home/carnd/anaconda3/lib/python3.5/site-packages/sklearn/linear_model/stochastic_gradient.py:84: FutureWarning: max_iter and tol parameters have been added in <class 'sklearn.linear_model.stochastic_gradient.SGDClassifier'> in 0.19. If both are left unset, they default to max_iter=5 and tol=None. If tol is not None, max_iter defaults to max_iter=1000. From 0.21, default max_iter will be 1000, and default tol will be 1e-3.\n",
      "  \"and default tol will be 1e-3.\" % type(self), FutureWarning)\n"
     ]
    },
    {
     "data": {
      "text/plain": [
       "0.88943722943722947"
      ]
     },
     "execution_count": 116,
     "metadata": {},
     "output_type": "execute_result"
    }
   ],
   "source": [
    "# x = np.array([112,0.8,8])\n",
    "# print(x)\n",
    "# black_box_mlp.train_and_eval(np_random_seed=int(x[0]) , alpha = x[1]  , random_state=int(x[2]))"
   ]
  },
  {
   "cell_type": "code",
   "execution_count": null,
   "metadata": {
    "collapsed": true
   },
   "outputs": [],
   "source": []
  }
 ],
 "metadata": {
  "anaconda-cloud": {},
  "kernelspec": {
   "display_name": "Python 3",
   "language": "python",
   "name": "python3"
  },
  "language_info": {
   "codemirror_mode": {
    "name": "ipython",
    "version": 3
   },
   "file_extension": ".py",
   "mimetype": "text/x-python",
   "name": "python",
   "nbconvert_exporter": "python",
   "pygments_lexer": "ipython3",
   "version": "3.5.3"
  }
 },
 "nbformat": 4,
 "nbformat_minor": 2
}
